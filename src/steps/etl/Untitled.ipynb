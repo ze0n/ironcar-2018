{
 "cells": [
  {
   "cell_type": "code",
   "execution_count": 1,
   "metadata": {},
   "outputs": [],
   "source": [
    "import numpy as np\n",
    "from PIL import Image, ImageDraw\n",
    "import os\n",
    "import numpy"
   ]
  },
  {
   "cell_type": "code",
   "execution_count": 16,
   "metadata": {},
   "outputs": [],
   "source": [
    "DATADIR = \"../../../data\"\n",
    "\n",
    "INPUT = os.path.join(DATADIR, \"raw\", \"2018-AXIONAUT\", \"Datasets\")\n",
    "OUTPUT = os.path.join(DATADIR, \"datasets\")"
   ]
  },
  {
   "cell_type": "code",
   "execution_count": 45,
   "metadata": {},
   "outputs": [],
   "source": [
    "class LoaderBase():\n",
    "    def log(self, str):\n",
    "        print(str)\n",
    "\n",
    "class AxionautLoader(LoaderBase):\n",
    "    def __init__(self, rootDir, outDir, datasetName, xfile, yfile):\n",
    "        self.rootDir = rootDir\n",
    "        self.outDir = outDir\n",
    "        self.xfile = xfile\n",
    "        self.yfile = yfile\n",
    "        self.datasetName = datasetName\n",
    "    \n",
    "    def load(self):\n",
    "        xfilePath = os.path.join(self.rootDir, self.xfile)\n",
    "        self.log(\"Loading {}\".format(xfilePath))\n",
    "        X = np.load(xfilePath)\n",
    "        Xshape = X.shape\n",
    "        print(\"X shape\", X.shape)        \n",
    "        \n",
    "        yfilePath = os.path.join(self.rootDir, self.yfile)\n",
    "        self.log(\"Loading {}\".format(yfilePath))\n",
    "        Y = np.load(yfilePath)\n",
    "        Yshape = Y.shape\n",
    "        print(\"Y shape\", Y.shape)        \n",
    "        \n",
    "        self.log(\"Cleaning X\")\n",
    "        del X\n",
    "        self.log(\"Cleaning Y\")\n",
    "        del Y\n",
    "        \n",
    "        d = os.path.join(self.outDir, self.datasetName)\n",
    "        self.log(\"Creating dataset dir {}\".format(d))\n",
    "        try:\n",
    "            os.mkdir(d)\n",
    "        except FileExistsError:\n",
    "            pass\n",
    "        \n",
    "        from shutil import copyfile\n",
    "        \n",
    "        toXPath = os.path.join(d, \"X.npy\")\n",
    "        if(os.path.isfile(toXPath)):\n",
    "            self.log(\"X file exists - removing\")\n",
    "            os.unlink(toXPath)\n",
    "        self.log(\"Copying X to {}\".format(toXPath))\n",
    "        copyfile(xfilePath, toXPath)\n",
    "\n",
    "        toYPath = os.path.join(d, \"Y.npy\")\n",
    "        if(os.path.isfile(toYPath)):\n",
    "            self.log(\"Y file exists - removing\")\n",
    "            os.unlink(toYPath)\n",
    "        self.log(\"Copying Y to {}\".format(toYPath))\n",
    "        copyfile(yfilePath, toYPath)\n",
    "        \n",
    "        with open(os.path.join(d, \"dataset.txt\"), \"wt\") as fout:\n",
    "            fout.write(\"X: {}\\n\".format(Xshape))\n",
    "            fout.write(\"Y: {}\\n\".format(Yshape))\n",
    "        \n",
    "        self.log(\"Done\")"
   ]
  },
  {
   "cell_type": "code",
   "execution_count": 46,
   "metadata": {},
   "outputs": [
    {
     "name": "stdout",
     "output_type": "stream",
     "text": [
      "Loading ../../../data\\raw\\2018-AXIONAUT\\Datasets\\axionable_data\\X_train_axio.npy\n",
      "X shape (26449, 90, 250, 3)\n",
      "Loading ../../../data\\raw\\2018-AXIONAUT\\Datasets\\axionable_data\\Y_train_axio.npy\n",
      "Y shape (26449, 5)\n",
      "Cleaning X\n",
      "Cleaning Y\n",
      "Creating dataset dir ../../../data\\datasets\\axionaut-axionable_data\n",
      "X file exists - removing\n",
      "Copying X to ../../../data\\datasets\\axionaut-axionable_data\\X.npy\n",
      "Y file exists - removing\n",
      "Copying Y to ../../../data\\datasets\\axionaut-axionable_data\\Y.npy\n",
      "Done\n"
     ]
    }
   ],
   "source": [
    "L = AxionautLoader(\n",
    "        os.path.join(INPUT, \"axionable_data\"), \n",
    "        OUTPUT, \n",
    "        \"axionaut-axionable_data\",\n",
    "        \"X_train_axio.npy\", \n",
    "        \"Y_train_axio.npy\"\n",
    "    )\n",
    "L.load()"
   ]
  },
  {
   "cell_type": "code",
   "execution_count": 42,
   "metadata": {},
   "outputs": [],
   "source": [
    "import shutil\n",
    "?shutil.copyfile"
   ]
  },
  {
   "cell_type": "code",
   "execution_count": null,
   "metadata": {},
   "outputs": [],
   "source": [
    "        #dirs = os.listdir(self.rootDir)\n",
    "        #dirs = filter(lambda x: os.path.isdir(os.path.join(self.rootDir, x)), dirs)\n"
   ]
  }
 ],
 "metadata": {
  "kernelspec": {
   "display_name": "Python 3",
   "language": "python",
   "name": "python3"
  },
  "language_info": {
   "codemirror_mode": {
    "name": "ipython",
    "version": 3
   },
   "file_extension": ".py",
   "mimetype": "text/x-python",
   "name": "python",
   "nbconvert_exporter": "python",
   "pygments_lexer": "ipython3",
   "version": "3.7.1"
  }
 },
 "nbformat": 4,
 "nbformat_minor": 2
}
